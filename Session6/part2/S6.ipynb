{
  "nbformat": 4,
  "nbformat_minor": 0,
  "metadata": {
    "colab": {
      "provenance": [],
      "gpuType": "T4"
    },
    "kernelspec": {
      "name": "python3",
      "display_name": "Python 3"
    },
    "accelerator": "GPU"
  },
  "cells": [
    {
      "cell_type": "code",
      "metadata": {
        "id": "0m2JWFliFfKT"
      },
      "source": [
        "from __future__ import print_function\n",
        "import torch\n",
        "import torch.nn as nn\n",
        "import torch.nn.functional as F\n",
        "import torch.optim as optim\n",
        "from torchvision import datasets, transforms"
      ],
      "execution_count": null,
      "outputs": []
    },
    {
      "cell_type": "code",
      "metadata": {
        "id": "h_Cx9q2QFgM7"
      },
      "source": [
        "class Net(nn.Module):\n",
        "    def __init__(self):\n",
        "        super(Net, self).__init__()\n",
        "        self.conv1 = nn.Conv2d(1, 8, 3, padding=0) \n",
        "        self.bn1 = nn.BatchNorm2d(8)\n",
        "        self.drop1 = nn.Dropout(0.05)\n",
        "        \n",
        "        self.conv2 = nn.Conv2d(8, 32, 3, padding=0)\n",
        "        self.bn2 = nn.BatchNorm2d(32)\n",
        "        self.drop2 = nn.Dropout(0.05)\n",
        "        \n",
        "        self.conv3 = nn.Conv2d(32, 8, 1, padding=0)\n",
        "        self.pool3 = nn.MaxPool2d(2, 2)\n",
        "\n",
        "        self.conv4 = nn.Conv2d(8, 32, 3, padding=0)\n",
        "        self.bn4 = nn.BatchNorm2d(32)\n",
        "        self.drop4 = nn.Dropout(0.05)\n",
        "        \n",
        "        self.conv5 = nn.Conv2d(32, 32, 3, padding=0)\n",
        "        self.bn5 = nn.BatchNorm2d(32)\n",
        "        self.drop5 = nn.Dropout(0.05)\n",
        "        \n",
        "        self.conv6 = nn.Conv2d(32, 16, 1, padding=0)\n",
        "        self.pool6 = nn.MaxPool2d(2, 2)\n",
        "\n",
        "        self.conv7 = nn.Conv2d(16, 32, 3, padding=0)\n",
        "        \n",
        "        self.pool8 = nn.AvgPool2d(2,2)\n",
        "        \n",
        "        self.fc1 = nn.Linear(32, 10)\n",
        "        \n",
        "    def forward(self, x):\n",
        "        x = self.drop1(self.bn1(F.relu(self.conv1(x))))\n",
        "        x = self.drop2(self.bn2(F.relu(self.conv2(x))))\n",
        "        x = self.pool3(self.conv3(x))\n",
        "        x = self.drop4(self.bn4(F.relu(self.conv4(x))))\n",
        "        x = self.drop5(self.bn5(F.relu(self.conv5(x))))\n",
        "        x = self.pool6(self.conv6(x))\n",
        "        x = F.relu(self.conv7(x))\n",
        "        x = self.pool8(x)\n",
        "        \n",
        "        x = x.view(x.size(0), -1)\n",
        "        x = self.fc1(x)\n",
        "        return F.log_softmax(x, dim=1)"
      ],
      "execution_count": null,
      "outputs": []
    },
    {
      "cell_type": "code",
      "metadata": {
        "id": "xdydjYTZFyi3",
        "colab": {
          "base_uri": "https://localhost:8080/"
        },
        "outputId": "ac5628c4-df45-4bc4-bb78-4aa15bc322df"
      },
      "source": [
        "!pip install torchsummary\n",
        "from torchsummary import summary\n",
        "use_cuda = torch.cuda.is_available()\n",
        "device = torch.device(\"cuda\" if use_cuda else \"cpu\")\n",
        "model = Net().to(device)\n",
        "summary(model, input_size=(1, 28, 28))"
      ],
      "execution_count": null,
      "outputs": [
        {
          "output_type": "stream",
          "name": "stdout",
          "text": [
            "Looking in indexes: https://pypi.org/simple, https://us-python.pkg.dev/colab-wheels/public/simple/\n",
            "Requirement already satisfied: torchsummary in /usr/local/lib/python3.10/dist-packages (1.5.1)\n",
            "----------------------------------------------------------------\n",
            "        Layer (type)               Output Shape         Param #\n",
            "================================================================\n",
            "            Conv2d-1            [-1, 8, 26, 26]              80\n",
            "       BatchNorm2d-2            [-1, 8, 26, 26]              16\n",
            "           Dropout-3            [-1, 8, 26, 26]               0\n",
            "            Conv2d-4           [-1, 32, 24, 24]           2,336\n",
            "       BatchNorm2d-5           [-1, 32, 24, 24]              64\n",
            "           Dropout-6           [-1, 32, 24, 24]               0\n",
            "            Conv2d-7            [-1, 8, 24, 24]             264\n",
            "         MaxPool2d-8            [-1, 8, 12, 12]               0\n",
            "            Conv2d-9           [-1, 32, 10, 10]           2,336\n",
            "      BatchNorm2d-10           [-1, 32, 10, 10]              64\n",
            "          Dropout-11           [-1, 32, 10, 10]               0\n",
            "           Conv2d-12             [-1, 32, 8, 8]           9,248\n",
            "      BatchNorm2d-13             [-1, 32, 8, 8]              64\n",
            "          Dropout-14             [-1, 32, 8, 8]               0\n",
            "           Conv2d-15             [-1, 16, 8, 8]             528\n",
            "        MaxPool2d-16             [-1, 16, 4, 4]               0\n",
            "           Conv2d-17             [-1, 32, 2, 2]           4,640\n",
            "        AvgPool2d-18             [-1, 32, 1, 1]               0\n",
            "           Linear-19                   [-1, 10]             330\n",
            "================================================================\n",
            "Total params: 19,970\n",
            "Trainable params: 19,970\n",
            "Non-trainable params: 0\n",
            "----------------------------------------------------------------\n",
            "Input size (MB): 0.00\n",
            "Forward/backward pass size (MB): 0.72\n",
            "Params size (MB): 0.08\n",
            "Estimated Total Size (MB): 0.80\n",
            "----------------------------------------------------------------\n"
          ]
        }
      ]
    },
    {
      "cell_type": "code",
      "metadata": {
        "id": "DqTWLaM5GHgH",
        "colab": {
          "base_uri": "https://localhost:8080/"
        },
        "outputId": "e0ace3af-940e-4adf-ce84-025ce0e684f3"
      },
      "source": [
        "\n",
        "\n",
        "torch.manual_seed(1)\n",
        "batch_size = 256\n",
        "\n",
        "kwargs = {'num_workers': 1, 'pin_memory': True} if use_cuda else {}\n",
        "train_loader = torch.utils.data.DataLoader(\n",
        "    datasets.MNIST('../data', train=True, download=True,\n",
        "                    transform=transforms.Compose([\n",
        "                        transforms.RandomApply([transforms.CenterCrop(22), ], p=0.1),\n",
        "                        transforms.Resize((28, 28)),\n",
        "                        transforms.RandomRotation((-15., 15.), fill=0),\n",
        "                        transforms.ToTensor(),\n",
        "                        transforms.Normalize((0.1307,), (0.3081,))\n",
        "                    ])),\n",
        "    batch_size=batch_size, shuffle=True, **kwargs)\n",
        "test_loader = torch.utils.data.DataLoader(\n",
        "    datasets.MNIST('../data', train=False, transform=transforms.Compose([\n",
        "                        transforms.ToTensor(),\n",
        "                        transforms.Normalize((0.1307,), (0.3081,))\n",
        "                    ])),\n",
        "    batch_size=batch_size, shuffle=True, **kwargs)\n"
      ],
      "execution_count": null,
      "outputs": [
        {
          "output_type": "stream",
          "name": "stdout",
          "text": [
            "Downloading http://yann.lecun.com/exdb/mnist/train-images-idx3-ubyte.gz\n",
            "Downloading http://yann.lecun.com/exdb/mnist/train-images-idx3-ubyte.gz to ../data/MNIST/raw/train-images-idx3-ubyte.gz\n"
          ]
        },
        {
          "output_type": "stream",
          "name": "stderr",
          "text": [
            "100%|██████████| 9912422/9912422 [00:00<00:00, 300987549.82it/s]"
          ]
        },
        {
          "output_type": "stream",
          "name": "stdout",
          "text": [
            "Extracting ../data/MNIST/raw/train-images-idx3-ubyte.gz to ../data/MNIST/raw\n"
          ]
        },
        {
          "output_type": "stream",
          "name": "stderr",
          "text": [
            "\n"
          ]
        },
        {
          "output_type": "stream",
          "name": "stdout",
          "text": [
            "\n",
            "Downloading http://yann.lecun.com/exdb/mnist/train-labels-idx1-ubyte.gz\n",
            "Downloading http://yann.lecun.com/exdb/mnist/train-labels-idx1-ubyte.gz to ../data/MNIST/raw/train-labels-idx1-ubyte.gz\n"
          ]
        },
        {
          "output_type": "stream",
          "name": "stderr",
          "text": [
            "100%|██████████| 28881/28881 [00:00<00:00, 108350352.26it/s]\n"
          ]
        },
        {
          "output_type": "stream",
          "name": "stdout",
          "text": [
            "Extracting ../data/MNIST/raw/train-labels-idx1-ubyte.gz to ../data/MNIST/raw\n",
            "\n",
            "Downloading http://yann.lecun.com/exdb/mnist/t10k-images-idx3-ubyte.gz\n",
            "Downloading http://yann.lecun.com/exdb/mnist/t10k-images-idx3-ubyte.gz to ../data/MNIST/raw/t10k-images-idx3-ubyte.gz\n"
          ]
        },
        {
          "output_type": "stream",
          "name": "stderr",
          "text": [
            "100%|██████████| 1648877/1648877 [00:00<00:00, 201037510.44it/s]\n"
          ]
        },
        {
          "output_type": "stream",
          "name": "stdout",
          "text": [
            "Extracting ../data/MNIST/raw/t10k-images-idx3-ubyte.gz to ../data/MNIST/raw\n",
            "\n",
            "Downloading http://yann.lecun.com/exdb/mnist/t10k-labels-idx1-ubyte.gz\n",
            "Downloading http://yann.lecun.com/exdb/mnist/t10k-labels-idx1-ubyte.gz to ../data/MNIST/raw/t10k-labels-idx1-ubyte.gz\n"
          ]
        },
        {
          "output_type": "stream",
          "name": "stderr",
          "text": [
            "100%|██████████| 4542/4542 [00:00<00:00, 22281320.20it/s]"
          ]
        },
        {
          "output_type": "stream",
          "name": "stdout",
          "text": [
            "Extracting ../data/MNIST/raw/t10k-labels-idx1-ubyte.gz to ../data/MNIST/raw\n",
            "\n"
          ]
        },
        {
          "output_type": "stream",
          "name": "stderr",
          "text": [
            "\n"
          ]
        }
      ]
    },
    {
      "cell_type": "code",
      "metadata": {
        "id": "8fDefDhaFlwH"
      },
      "source": [
        "from tqdm import tqdm\n",
        "def train(model, device, train_loader, optimizer, epoch):\n",
        "    model.train()\n",
        "    train_loss = 0\n",
        "    correct_train = 0\n",
        "    pbar = tqdm(train_loader)\n",
        "    for batch_idx, (data, target) in enumerate(pbar):\n",
        "        data, target = data.to(device), target.to(device)\n",
        "        optimizer.zero_grad()\n",
        "        output = model(data)\n",
        "        loss = F.nll_loss(output, target)\n",
        "        loss.backward()\n",
        "        optimizer.step()\n",
        "        \n",
        "        pred = output.argmax(dim=1, keepdim=True)  # get the index of the max log-probability\n",
        "        correct_train += pred.eq(target.view_as(pred)).sum().item()\n",
        "        \n",
        "        pbar.set_description(desc= f'loss={loss.item()} batch_id={batch_idx} Train_accuracy = {100. * correct_train/len(train_loader.dataset)}')\n",
        "\n",
        "\n",
        "def test(model, device, test_loader):\n",
        "    model.eval()\n",
        "    test_loss = 0\n",
        "    correct = 0\n",
        "    with torch.no_grad():\n",
        "        for data, target in test_loader:\n",
        "            data, target = data.to(device), target.to(device)\n",
        "            output = model(data)\n",
        "            test_loss += F.nll_loss(output, target, reduction='sum').item()  # sum up batch loss\n",
        "            pred = output.argmax(dim=1, keepdim=True)  # get the index of the max log-probability\n",
        "            correct += pred.eq(target.view_as(pred)).sum().item()\n",
        "\n",
        "    test_loss /= len(test_loader.dataset)\n",
        "\n",
        "    print('\\nTest set: Average loss: {:.4f}, Accuracy: {}/{} ({:.3f}%)\\n'.format(\n",
        "        test_loss, correct, len(test_loader.dataset),\n",
        "        100. * correct / len(test_loader.dataset)))"
      ],
      "execution_count": null,
      "outputs": []
    },
    {
      "cell_type": "markdown",
      "source": [
        "# New Section"
      ],
      "metadata": {
        "id": "CQHZpgTWJKae"
      }
    },
    {
      "cell_type": "code",
      "metadata": {
        "id": "MMWbLWO6FuHb",
        "colab": {
          "base_uri": "https://localhost:8080/"
        },
        "outputId": "85356166-8e99-4eb6-af4e-f05a443e1186"
      },
      "source": [
        "\n",
        "model = Net().to(device)\n",
        "optimizer = optim.SGD(model.parameters(), lr=0.01, momentum=0.9)\n",
        "\n",
        "for epoch in range(1, 21):\n",
        "    print('epoch : ',epoch)\n",
        "    train(model, device, train_loader, optimizer, epoch)\n",
        "    test(model, device, test_loader)"
      ],
      "execution_count": null,
      "outputs": [
        {
          "output_type": "stream",
          "name": "stdout",
          "text": [
            "epoch :  1\n"
          ]
        },
        {
          "output_type": "stream",
          "name": "stderr",
          "text": [
            "loss=0.13605201244354248 batch_id=234 Train_accuracy = 77.14: 100%|██████████| 235/235 [00:27<00:00,  8.49it/s]\n"
          ]
        },
        {
          "output_type": "stream",
          "name": "stdout",
          "text": [
            "\n",
            "Test set: Average loss: 0.0903, Accuracy: 9710/10000 (97.100%)\n",
            "\n",
            "epoch :  2\n"
          ]
        },
        {
          "output_type": "stream",
          "name": "stderr",
          "text": [
            "loss=0.19593112170696259 batch_id=234 Train_accuracy = 96.38: 100%|██████████| 235/235 [00:28<00:00,  8.38it/s]\n"
          ]
        },
        {
          "output_type": "stream",
          "name": "stdout",
          "text": [
            "\n",
            "Test set: Average loss: 0.0487, Accuracy: 9847/10000 (98.470%)\n",
            "\n",
            "epoch :  3\n"
          ]
        },
        {
          "output_type": "stream",
          "name": "stderr",
          "text": [
            "loss=0.047091301530599594 batch_id=234 Train_accuracy = 97.30333333333333: 100%|██████████| 235/235 [00:27<00:00,  8.40it/s]\n"
          ]
        },
        {
          "output_type": "stream",
          "name": "stdout",
          "text": [
            "\n",
            "Test set: Average loss: 0.0428, Accuracy: 9853/10000 (98.530%)\n",
            "\n",
            "epoch :  4\n"
          ]
        },
        {
          "output_type": "stream",
          "name": "stderr",
          "text": [
            "loss=0.028773948550224304 batch_id=234 Train_accuracy = 97.79833333333333: 100%|██████████| 235/235 [00:27<00:00,  8.40it/s]\n"
          ]
        },
        {
          "output_type": "stream",
          "name": "stdout",
          "text": [
            "\n",
            "Test set: Average loss: 0.0443, Accuracy: 9863/10000 (98.630%)\n",
            "\n",
            "epoch :  5\n"
          ]
        },
        {
          "output_type": "stream",
          "name": "stderr",
          "text": [
            "loss=0.009053288027644157 batch_id=234 Train_accuracy = 98.04166666666667: 100%|██████████| 235/235 [00:28<00:00,  8.30it/s]\n"
          ]
        },
        {
          "output_type": "stream",
          "name": "stdout",
          "text": [
            "\n",
            "Test set: Average loss: 0.0322, Accuracy: 9889/10000 (98.890%)\n",
            "\n",
            "epoch :  6\n"
          ]
        },
        {
          "output_type": "stream",
          "name": "stderr",
          "text": [
            "loss=0.07875823974609375 batch_id=234 Train_accuracy = 98.215: 100%|██████████| 235/235 [00:27<00:00,  8.44it/s]\n"
          ]
        },
        {
          "output_type": "stream",
          "name": "stdout",
          "text": [
            "\n",
            "Test set: Average loss: 0.0284, Accuracy: 9903/10000 (99.030%)\n",
            "\n",
            "epoch :  7\n"
          ]
        },
        {
          "output_type": "stream",
          "name": "stderr",
          "text": [
            "loss=0.06088532507419586 batch_id=234 Train_accuracy = 98.34833333333333: 100%|██████████| 235/235 [00:28<00:00,  8.37it/s]\n"
          ]
        },
        {
          "output_type": "stream",
          "name": "stdout",
          "text": [
            "\n",
            "Test set: Average loss: 0.0289, Accuracy: 9908/10000 (99.080%)\n",
            "\n",
            "epoch :  8\n"
          ]
        },
        {
          "output_type": "stream",
          "name": "stderr",
          "text": [
            "loss=0.024272151291370392 batch_id=234 Train_accuracy = 98.465: 100%|██████████| 235/235 [00:28<00:00,  8.37it/s]\n"
          ]
        },
        {
          "output_type": "stream",
          "name": "stdout",
          "text": [
            "\n",
            "Test set: Average loss: 0.0244, Accuracy: 9907/10000 (99.070%)\n",
            "\n",
            "epoch :  9\n"
          ]
        },
        {
          "output_type": "stream",
          "name": "stderr",
          "text": [
            "loss=0.046617284417152405 batch_id=234 Train_accuracy = 98.58833333333334: 100%|██████████| 235/235 [00:28<00:00,  8.10it/s]\n"
          ]
        },
        {
          "output_type": "stream",
          "name": "stdout",
          "text": [
            "\n",
            "Test set: Average loss: 0.0265, Accuracy: 9915/10000 (99.150%)\n",
            "\n",
            "epoch :  10\n"
          ]
        },
        {
          "output_type": "stream",
          "name": "stderr",
          "text": [
            "loss=0.033673401921987534 batch_id=234 Train_accuracy = 98.57833333333333: 100%|██████████| 235/235 [00:28<00:00,  8.26it/s]\n"
          ]
        },
        {
          "output_type": "stream",
          "name": "stdout",
          "text": [
            "\n",
            "Test set: Average loss: 0.0243, Accuracy: 9921/10000 (99.210%)\n",
            "\n",
            "epoch :  11\n"
          ]
        },
        {
          "output_type": "stream",
          "name": "stderr",
          "text": [
            "loss=0.04431096836924553 batch_id=234 Train_accuracy = 98.67666666666666: 100%|██████████| 235/235 [00:28<00:00,  8.38it/s]\n"
          ]
        },
        {
          "output_type": "stream",
          "name": "stdout",
          "text": [
            "\n",
            "Test set: Average loss: 0.0240, Accuracy: 9917/10000 (99.170%)\n",
            "\n",
            "epoch :  12\n"
          ]
        },
        {
          "output_type": "stream",
          "name": "stderr",
          "text": [
            "loss=0.08596298098564148 batch_id=234 Train_accuracy = 98.795: 100%|██████████| 235/235 [00:27<00:00,  8.40it/s]\n"
          ]
        },
        {
          "output_type": "stream",
          "name": "stdout",
          "text": [
            "\n",
            "Test set: Average loss: 0.0221, Accuracy: 9920/10000 (99.200%)\n",
            "\n",
            "epoch :  13\n"
          ]
        },
        {
          "output_type": "stream",
          "name": "stderr",
          "text": [
            "loss=0.007900058291852474 batch_id=234 Train_accuracy = 98.73333333333333: 100%|██████████| 235/235 [00:28<00:00,  8.33it/s]\n"
          ]
        },
        {
          "output_type": "stream",
          "name": "stdout",
          "text": [
            "\n",
            "Test set: Average loss: 0.0226, Accuracy: 9926/10000 (99.260%)\n",
            "\n",
            "epoch :  14\n"
          ]
        },
        {
          "output_type": "stream",
          "name": "stderr",
          "text": [
            "loss=0.05220382288098335 batch_id=234 Train_accuracy = 98.84166666666667: 100%|██████████| 235/235 [00:28<00:00,  8.11it/s]\n"
          ]
        },
        {
          "output_type": "stream",
          "name": "stdout",
          "text": [
            "\n",
            "Test set: Average loss: 0.0206, Accuracy: 9936/10000 (99.360%)\n",
            "\n",
            "epoch :  15\n"
          ]
        },
        {
          "output_type": "stream",
          "name": "stderr",
          "text": [
            "loss=0.11273941397666931 batch_id=234 Train_accuracy = 98.84833333333333: 100%|██████████| 235/235 [00:28<00:00,  8.31it/s]\n"
          ]
        },
        {
          "output_type": "stream",
          "name": "stdout",
          "text": [
            "\n",
            "Test set: Average loss: 0.0225, Accuracy: 9928/10000 (99.280%)\n",
            "\n",
            "epoch :  16\n"
          ]
        },
        {
          "output_type": "stream",
          "name": "stderr",
          "text": [
            "loss=0.02539157122373581 batch_id=234 Train_accuracy = 98.85: 100%|██████████| 235/235 [00:27<00:00,  8.39it/s]\n"
          ]
        },
        {
          "output_type": "stream",
          "name": "stdout",
          "text": [
            "\n",
            "Test set: Average loss: 0.0215, Accuracy: 9926/10000 (99.260%)\n",
            "\n",
            "epoch :  17\n"
          ]
        },
        {
          "output_type": "stream",
          "name": "stderr",
          "text": [
            "loss=0.04359161853790283 batch_id=234 Train_accuracy = 98.92: 100%|██████████| 235/235 [00:28<00:00,  8.15it/s]\n"
          ]
        },
        {
          "output_type": "stream",
          "name": "stdout",
          "text": [
            "\n",
            "Test set: Average loss: 0.0218, Accuracy: 9931/10000 (99.310%)\n",
            "\n",
            "epoch :  18\n"
          ]
        },
        {
          "output_type": "stream",
          "name": "stderr",
          "text": [
            "loss=0.04388740658760071 batch_id=234 Train_accuracy = 98.995: 100%|██████████| 235/235 [00:28<00:00,  8.38it/s]\n"
          ]
        },
        {
          "output_type": "stream",
          "name": "stdout",
          "text": [
            "\n",
            "Test set: Average loss: 0.0196, Accuracy: 9930/10000 (99.300%)\n",
            "\n",
            "epoch :  19\n"
          ]
        },
        {
          "output_type": "stream",
          "name": "stderr",
          "text": [
            "loss=0.002570175798609853 batch_id=234 Train_accuracy = 98.98833333333333: 100%|██████████| 235/235 [00:28<00:00,  8.11it/s]\n"
          ]
        },
        {
          "output_type": "stream",
          "name": "stdout",
          "text": [
            "\n",
            "Test set: Average loss: 0.0180, Accuracy: 9943/10000 (99.430%)\n",
            "\n",
            "epoch :  20\n"
          ]
        },
        {
          "output_type": "stream",
          "name": "stderr",
          "text": [
            "loss=0.02766178548336029 batch_id=234 Train_accuracy = 99.01166666666667: 100%|██████████| 235/235 [00:27<00:00,  8.44it/s]\n"
          ]
        },
        {
          "output_type": "stream",
          "name": "stdout",
          "text": [
            "\n",
            "Test set: Average loss: 0.0177, Accuracy: 9943/10000 (99.430%)\n",
            "\n"
          ]
        }
      ]
    },
    {
      "cell_type": "code",
      "source": [],
      "metadata": {
        "id": "XIkIPsZVHsUf"
      },
      "execution_count": null,
      "outputs": []
    }
  ]
}